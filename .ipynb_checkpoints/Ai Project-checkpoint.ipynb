{
 "cells": [
  {
   "cell_type": "markdown",
   "id": "a46915f1",
   "metadata": {},
   "source": [
    "# Predict Death rate decline after covid vaccinations"
   ]
  },
  {
   "cell_type": "markdown",
   "id": "34ec9d2b",
   "metadata": {},
   "source": [
    "### Importing packages"
   ]
  },
  {
   "cell_type": "code",
   "execution_count": 1,
   "id": "790e9426",
   "metadata": {},
   "outputs": [],
   "source": [
    "import numpy as np\n",
    "import pandas as pd\n",
    "from sklearn.model_selection import train_test_split\n",
    "from sklearn.preprocessing import StandardScaler\n",
    "from sklearn.neighbors import KNeighborsRegressor\n",
    "import matplotlib.pyplot as plt\n"
   ]
  },
  {
   "cell_type": "markdown",
   "id": "e4fa25a3",
   "metadata": {},
   "source": [
    "### Reading the data set into a dataframe"
   ]
  },
  {
   "cell_type": "code",
   "execution_count": 2,
   "id": "6cb6786f",
   "metadata": {},
   "outputs": [
    {
     "data": {
      "text/html": [
       "<div>\n",
       "<style scoped>\n",
       "    .dataframe tbody tr th:only-of-type {\n",
       "        vertical-align: middle;\n",
       "    }\n",
       "\n",
       "    .dataframe tbody tr th {\n",
       "        vertical-align: top;\n",
       "    }\n",
       "\n",
       "    .dataframe thead th {\n",
       "        text-align: right;\n",
       "    }\n",
       "</style>\n",
       "<table border=\"1\" class=\"dataframe\">\n",
       "  <thead>\n",
       "    <tr style=\"text-align: right;\">\n",
       "      <th></th>\n",
       "      <th>location</th>\n",
       "      <th>new_deaths</th>\n",
       "      <th>total_vaccinations</th>\n",
       "    </tr>\n",
       "  </thead>\n",
       "  <tbody>\n",
       "    <tr>\n",
       "      <th>0</th>\n",
       "      <td>Pakistan</td>\n",
       "      <td>56</td>\n",
       "      <td>0</td>\n",
       "    </tr>\n",
       "    <tr>\n",
       "      <th>1</th>\n",
       "      <td>Pakistan</td>\n",
       "      <td>57</td>\n",
       "      <td>27228</td>\n",
       "    </tr>\n",
       "    <tr>\n",
       "      <th>2</th>\n",
       "      <td>Pakistan</td>\n",
       "      <td>52</td>\n",
       "      <td>52768</td>\n",
       "    </tr>\n",
       "    <tr>\n",
       "      <th>3</th>\n",
       "      <td>Pakistan</td>\n",
       "      <td>16</td>\n",
       "      <td>72882</td>\n",
       "    </tr>\n",
       "    <tr>\n",
       "      <th>4</th>\n",
       "      <td>Pakistan</td>\n",
       "      <td>29</td>\n",
       "      <td>350000</td>\n",
       "    </tr>\n",
       "  </tbody>\n",
       "</table>\n",
       "</div>"
      ],
      "text/plain": [
       "   location  new_deaths  total_vaccinations\n",
       "0  Pakistan          56                   0\n",
       "1  Pakistan          57               27228\n",
       "2  Pakistan          52               52768\n",
       "3  Pakistan          16               72882\n",
       "4  Pakistan          29              350000"
      ]
     },
     "execution_count": 2,
     "metadata": {},
     "output_type": "execute_result"
    }
   ],
   "source": [
    "dataSet=pd.read_csv(r'covidDataset.csv',dtype='str')\n",
    "dataSet['new_deaths'] = dataSet['new_deaths'].fillna(0).astype('int')\n",
    "dataSet['total_vaccinations'] = dataSet['total_vaccinations'].fillna(0).astype('int')\n",
    "dataSet.head()\n"
   ]
  },
  {
   "cell_type": "markdown",
   "id": "98d47f8c",
   "metadata": {},
   "source": [
    "### Extracting X and Y from the data set"
   ]
  },
  {
   "cell_type": "code",
   "execution_count": 4,
   "id": "343d532d",
   "metadata": {},
   "outputs": [],
   "source": [
    "x=dataSet['new_deaths']\n",
    "#print(x)\n",
    "y=dataSet['total_vaccinations']\n",
    "x=np.array(x.values.tolist())\n",
    "y=np.array(y.values.tolist())\n",
    "x = x.reshape(-1,1)\n",
    "y=y.reshape(-1,1)\n"
   ]
  },
  {
   "cell_type": "markdown",
   "id": "74226e1f",
   "metadata": {},
   "source": [
    "### Pre-processing the data and fitting it to thte Kn Regressor Algorithm"
   ]
  },
  {
   "cell_type": "code",
   "execution_count": 5,
   "id": "5b1b6dc7",
   "metadata": {},
   "outputs": [
    {
     "data": {
      "text/plain": [
       "KNeighborsRegressor()"
      ]
     },
     "execution_count": 5,
     "metadata": {},
     "output_type": "execute_result"
    }
   ],
   "source": [
    "x_train,x_test,y_train,y_test=train_test_split(x,y,test_size=0.20)\n",
    "scaler=StandardScaler()\n",
    "scaler.fit(x_train)\n",
    "x_train=scaler.transform(x_train)\n",
    "x_test=scaler.transform(x_test)\n",
    "#print(x,'\\n',y)\n",
    "regressor=KNeighborsRegressor(n_neighbors=5)\n",
    "regressor.fit(x_train,y_train)\n",
    "\n",
    "\n",
    "        \n",
    "    "
   ]
  },
  {
   "cell_type": "markdown",
   "id": "f5fede06",
   "metadata": {},
   "source": [
    "### Making the prediction and Visualizing the Results "
   ]
  },
  {
   "cell_type": "code",
   "execution_count": 6,
   "id": "c09dacad",
   "metadata": {},
   "outputs": [
    {
     "data": {
      "image/png": "[encoded data removed]",
      "text/plain": [
       "<Figure size 432x288 with 1 Axes>"
      ]
     },
     "metadata": {
      "needs_background": "light"
     },
     "output_type": "display_data"
    }
   ],
   "source": [
    "result= regressor.predict(x_test)\n",
    "\n",
    "plt.scatter(x_test,result,color=\"red\")\n",
    "plt.xlabel(\"vaccinations\")\n",
    "plt.ylabel(\"deaths predicted\")\n",
    "plt.title(\"Covid Death-rate Vs Vaccinations\")\n",
    "plt.show()\n",
    "\n"
   ]
  },
  {
   "cell_type": "code",
   "execution_count": null,
   "id": "16896cd1",
   "metadata": {},
   "outputs": [],
   "source": []
  }
 ],
 "metadata": {
  "kernelspec": {
   "display_name": "Python 3 (ipykernel)",
   "language": "python",
   "name": "python3"
  },
  "language_info": {
   "codemirror_mode": {
    "name": "ipython",
    "version": 3
   },
   "file_extension": ".py",
   "mimetype": "text/x-python",
   "name": "python",
   "nbconvert_exporter": "python",
   "pygments_lexer": "ipython3",
   "version": "3.9.12"
  }
 },
 "nbformat": 4,
 "nbformat_minor": 5
}
